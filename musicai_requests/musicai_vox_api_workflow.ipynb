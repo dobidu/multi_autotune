{
 "cells": [
  {
   "cell_type": "code",
   "execution_count": null,
   "id": "e2418a20",
   "metadata": {},
   "outputs": [],
   "source": [
    "%pip install musicai-sdk"
   ]
  },
  {
   "cell_type": "markdown",
   "id": "e5188c0d",
   "metadata": {},
   "source": [
    "# AutoTune Vox Files"
   ]
  },
  {
   "cell_type": "code",
   "execution_count": null,
   "id": "9775e360",
   "metadata": {},
   "outputs": [
    {
     "name": "stdout",
     "output_type": "stream",
     "text": [
      "Iniciando process_folder...\n"
     ]
    },
    {
     "name": "stderr",
     "output_type": "stream",
     "text": [
      "INFO:musicai_sdk.process_folder:Job Created for mcgill-billboard_0579-The_Yardbirds-Heart_Full_Of_Soul_audio_mix.wav with id 58ddc0d7-9dc6-43e4-beef-29abf8d59ffc\n",
      "INFO:musicai_sdk.process_folder:Job Created for mcgill-billboard_0964-The_Sopwith_Camel-Hello_Hello_audio_mix.wav with id de198822-17db-454b-af8a-cea7cd8dfe2e\n",
      "INFO:musicai_sdk.process_folder:Waiting for job completion for mcgill-billboard_0579-The_Yardbirds-Heart_Full_Of_Soul_audio_mix.wav\n",
      "INFO:musicai_sdk.process_folder:Waiting for job completion for mcgill-billboard_0964-The_Sopwith_Camel-Hello_Hello_audio_mix.wav\n",
      "INFO:musicai_sdk.process_folder:Waiting for job completion for mcgill-billboard_0579-The_Yardbirds-Heart_Full_Of_Soul_audio_mix.wav\n",
      "INFO:musicai_sdk.process_folder:Waiting for job completion for mcgill-billboard_0964-The_Sopwith_Camel-Hello_Hello_audio_mix.wav\n",
      "INFO:musicai_sdk.process_folder:Waiting for job completion for mcgill-billboard_0579-The_Yardbirds-Heart_Full_Of_Soul_audio_mix.wav\n",
      "INFO:musicai_sdk.process_folder:Job completed with status SUCCEEDED for mcgill-billboard_0964-The_Sopwith_Camel-Hello_Hello_audio_mix.wav\n",
      "INFO:musicai_sdk.process_folder:Job result downloaded for mcgill-billboard_0964-The_Sopwith_Camel-Hello_Hello_audio_mix.wav\n",
      "INFO:musicai_sdk.process_folder:Job for mcgill-billboard_0964-The_Sopwith_Camel-Hello_Hello_audio_mix.wav deleted from server\n",
      "INFO:musicai_sdk.process_folder:Waiting for job completion for mcgill-billboard_0579-The_Yardbirds-Heart_Full_Of_Soul_audio_mix.wav\n",
      "INFO:musicai_sdk.process_folder:Job Created for mcgill-billboard_0945-The_Doors-Riders_On_The_Storm_audio_mix.wav with id a396b409-6462-4520-a58c-1654e3e8e37d\n",
      "INFO:musicai_sdk.process_folder:Waiting for job completion for mcgill-billboard_0945-The_Doors-Riders_On_The_Storm_audio_mix.wav\n",
      "INFO:musicai_sdk.process_folder:Waiting for job completion for mcgill-billboard_0579-The_Yardbirds-Heart_Full_Of_Soul_audio_mix.wav\n",
      "INFO:musicai_sdk.process_folder:Waiting for job completion for mcgill-billboard_0945-The_Doors-Riders_On_The_Storm_audio_mix.wav\n",
      "INFO:musicai_sdk.process_folder:Waiting for job completion for mcgill-billboard_0579-The_Yardbirds-Heart_Full_Of_Soul_audio_mix.wav\n",
      "INFO:musicai_sdk.process_folder:Waiting for job completion for mcgill-billboard_0945-The_Doors-Riders_On_The_Storm_audio_mix.wav\n",
      "INFO:musicai_sdk.process_folder:Waiting for job completion for mcgill-billboard_0579-The_Yardbirds-Heart_Full_Of_Soul_audio_mix.wav\n",
      "INFO:musicai_sdk.process_folder:Job completed with status SUCCEEDED for mcgill-billboard_0945-The_Doors-Riders_On_The_Storm_audio_mix.wav\n",
      "INFO:musicai_sdk.process_folder:Job result downloaded for mcgill-billboard_0945-The_Doors-Riders_On_The_Storm_audio_mix.wav\n",
      "INFO:musicai_sdk.process_folder:Job completed with status SUCCEEDED for mcgill-billboard_0579-The_Yardbirds-Heart_Full_Of_Soul_audio_mix.wav\n",
      "INFO:musicai_sdk.process_folder:Job for mcgill-billboard_0945-The_Doors-Riders_On_The_Storm_audio_mix.wav deleted from server\n",
      "INFO:musicai_sdk.process_folder:Job result downloaded for mcgill-billboard_0579-The_Yardbirds-Heart_Full_Of_Soul_audio_mix.wav\n",
      "INFO:musicai_sdk.process_folder:Job for mcgill-billboard_0579-The_Yardbirds-Heart_Full_Of_Soul_audio_mix.wav deleted from server\n",
      "INFO:musicai_sdk.process_folder:Job Created for mcgill-billboard_0260-Tom_Jones-Shes_A_Lady_audio_mix.wav with id 440016c5-276c-43cf-ba66-64591e4f6cbe\n",
      "INFO:musicai_sdk.process_folder:Waiting for job completion for mcgill-billboard_0260-Tom_Jones-Shes_A_Lady_audio_mix.wav\n",
      "INFO:musicai_sdk.process_folder:Job Created for mcgill-billboard_0039-The_Rolling_Stones-Its_Only_Rock_N_Roll_(But_I_Like_It)_audio_mix.wav with id c0603e4d-e1cd-4010-8262-289fd77e230b\n",
      "INFO:musicai_sdk.process_folder:Waiting for job completion for mcgill-billboard_0039-The_Rolling_Stones-Its_Only_Rock_N_Roll_(But_I_Like_It)_audio_mix.wav\n",
      "INFO:musicai_sdk.process_folder:Job completed with status SUCCEEDED for mcgill-billboard_0260-Tom_Jones-Shes_A_Lady_audio_mix.wav\n",
      "INFO:musicai_sdk.process_folder:Job result downloaded for mcgill-billboard_0260-Tom_Jones-Shes_A_Lady_audio_mix.wav\n",
      "INFO:musicai_sdk.process_folder:Waiting for job completion for mcgill-billboard_0039-The_Rolling_Stones-Its_Only_Rock_N_Roll_(But_I_Like_It)_audio_mix.wav\n",
      "INFO:musicai_sdk.process_folder:Job for mcgill-billboard_0260-Tom_Jones-Shes_A_Lady_audio_mix.wav deleted from server\n",
      "INFO:musicai_sdk.process_folder:Waiting for job completion for mcgill-billboard_0039-The_Rolling_Stones-Its_Only_Rock_N_Roll_(But_I_Like_It)_audio_mix.wav\n",
      "INFO:musicai_sdk.process_folder:Job completed with status SUCCEEDED for mcgill-billboard_0039-The_Rolling_Stones-Its_Only_Rock_N_Roll_(But_I_Like_It)_audio_mix.wav\n",
      "INFO:musicai_sdk.process_folder:Job result downloaded for mcgill-billboard_0039-The_Rolling_Stones-Its_Only_Rock_N_Roll_(But_I_Like_It)_audio_mix.wav\n",
      "INFO:musicai_sdk.process_folder:Job for mcgill-billboard_0039-The_Rolling_Stones-Its_Only_Rock_N_Roll_(But_I_Like_It)_audio_mix.wav deleted from server\n"
     ]
    },
    {
     "name": "stdout",
     "output_type": "stream",
     "text": [
      "process_folder finalizado.\n"
     ]
    }
   ],
   "source": [
    "from musicai_sdk import MusicAiClient, process_folder\n",
    "\n",
    "client = MusicAiClient(api_key='861ee362-400b-4231-81b8-bcf898d73950')\n",
    "try:\n",
    "    print(\"Iniciando process_folder...\")\n",
    "    process_folder(\n",
    "        input_folder=\"INSERT\", #ALTERAR\n",
    "        output_folder=\"INSERT\", #ALTERAR\n",
    "        workflow_id=\"smart-autotune-wflow\",\n",
    "        parallelism=2,\n",
    "        delete=True,\n",
    "        client=client\n",
    "    )\n",
    "    print(\"process_folder finalizado.\")\n",
    "except Exception as e:\n",
    "    print(f\"Erro ao executar process_folder: {e}\")"
   ]
  }
 ],
 "metadata": {
  "kernelspec": {
   "display_name": "Python 3",
   "language": "python",
   "name": "python3"
  },
  "language_info": {
   "codemirror_mode": {
    "name": "ipython",
    "version": 3
   },
   "file_extension": ".py",
   "mimetype": "text/x-python",
   "name": "python",
   "nbconvert_exporter": "python",
   "pygments_lexer": "ipython3",
   "version": "3.12.8"
  }
 },
 "nbformat": 4,
 "nbformat_minor": 5
}
